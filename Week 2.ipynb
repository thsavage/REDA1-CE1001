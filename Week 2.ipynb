{
 "cells": [
  {
   "cell_type": "markdown",
   "metadata": {},
   "source": [
    "# REDA1-CE1001: Advanced Topics in Real Estate Data Analytics"
   ]
  },
  {
   "cell_type": "markdown",
   "metadata": {},
   "source": [
    "## Week 2: Panel Discussion \n",
    "### Professor Serguei Chervachidze, Ph.D. \n",
    "### Professor Timothy H. Savage, Ph.D. CRE"
   ]
  },
  {
   "cell_type": "markdown",
   "metadata": {},
   "source": [
    "## Topics\n",
    "### How Did We Get Here?\n",
    "### What Is Thought Leadership?  Does It Matter Anymore?\n",
    "### What Role Will Algorithms Play in CRE?\n",
    "### Is the Future Bayesian or Deep Learning?\n",
    "### What Is AI?"
   ]
  }
 ],
 "metadata": {
  "kernelspec": {
   "display_name": "Python 3",
   "language": "python",
   "name": "python3"
  },
  "language_info": {
   "codemirror_mode": {
    "name": "ipython",
    "version": 3
   },
   "file_extension": ".py",
   "mimetype": "text/x-python",
   "name": "python",
   "nbconvert_exporter": "python",
   "pygments_lexer": "ipython3",
   "version": "3.7.2"
  }
 },
 "nbformat": 4,
 "nbformat_minor": 2
}
